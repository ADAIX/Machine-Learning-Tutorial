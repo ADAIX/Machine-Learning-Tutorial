{
 "cells": [
  {
   "cell_type": "markdown",
   "metadata": {},
   "source": [
    "ADAIX - 20-22 May 2018, Valencia - Spain\n",
    "\n",
    "### Session II - Machine Learning in Practice: \n",
    "# Regression - II: Photometric redshift estimation \n",
    "by *Emille E. O. Ishida*\n",
    "\n",
    "\n",
    "In this example we are going to estimate photometric redshfits based on measurements of r-band magnitude and colours. \n",
    "\n",
    "## The Data\n",
    "\n",
    "We shall work with the `Teddy` catalog presented in [Beck *et al.*, 2017](https://arxiv.org/abs/1701.08748).   \n",
    "`Teddy` was build from SDSS-DR12 data release.  The complete catalog is composed of 4 samples with increasing levels of non-representativeness.  You can take a look in all the available samples in the [COINtoolbox](https://github.com/COINtoolbox/photoz_catalogues).\n",
    "\n",
    "We begin by analysing `TeddyA`, a well behaved, high SNR sample."
   ]
  },
  {
   "cell_type": "code",
   "execution_count": 4,
   "metadata": {},
   "outputs": [
    {
     "ename": "FileNotFoundError",
     "evalue": "[Errno 2] No such file or directory: '../data/teddy_A'",
     "output_type": "error",
     "traceback": [
      "\u001b[0;31m---------------------------------------------------------------------------\u001b[0m",
      "\u001b[0;31mFileNotFoundError\u001b[0m                         Traceback (most recent call last)",
      "\u001b[0;32m<ipython-input-4-b04b7022ce34>\u001b[0m in \u001b[0;36m<module>\u001b[0;34m()\u001b[0m\n\u001b[1;32m      2\u001b[0m \u001b[0;34m\u001b[0m\u001b[0m\n\u001b[1;32m      3\u001b[0m \u001b[0;31m# read TeddyA\u001b[0m\u001b[0;34m\u001b[0m\u001b[0;34m\u001b[0m\u001b[0m\n\u001b[0;32m----> 4\u001b[0;31m \u001b[0mTeddyA\u001b[0m \u001b[0;34m=\u001b[0m \u001b[0mnp\u001b[0m\u001b[0;34m.\u001b[0m\u001b[0mloadtxt\u001b[0m\u001b[0;34m(\u001b[0m\u001b[0;34m'../data/teddy_A'\u001b[0m\u001b[0;34m)\u001b[0m\u001b[0;34m\u001b[0m\u001b[0m\n\u001b[0m",
      "\u001b[0;32m~/anaconda3/envs/adaix/lib/python3.6/site-packages/numpy/lib/npyio.py\u001b[0m in \u001b[0;36mloadtxt\u001b[0;34m(fname, dtype, comments, delimiter, converters, skiprows, usecols, unpack, ndmin)\u001b[0m\n\u001b[1;32m    803\u001b[0m                 \u001b[0mfh\u001b[0m \u001b[0;34m=\u001b[0m \u001b[0miter\u001b[0m\u001b[0;34m(\u001b[0m\u001b[0mopen\u001b[0m\u001b[0;34m(\u001b[0m\u001b[0mfname\u001b[0m\u001b[0;34m,\u001b[0m \u001b[0;34m'U'\u001b[0m\u001b[0;34m)\u001b[0m\u001b[0;34m)\u001b[0m\u001b[0;34m\u001b[0m\u001b[0m\n\u001b[1;32m    804\u001b[0m             \u001b[0;32melse\u001b[0m\u001b[0;34m:\u001b[0m\u001b[0;34m\u001b[0m\u001b[0m\n\u001b[0;32m--> 805\u001b[0;31m                 \u001b[0mfh\u001b[0m \u001b[0;34m=\u001b[0m \u001b[0miter\u001b[0m\u001b[0;34m(\u001b[0m\u001b[0mopen\u001b[0m\u001b[0;34m(\u001b[0m\u001b[0mfname\u001b[0m\u001b[0;34m)\u001b[0m\u001b[0;34m)\u001b[0m\u001b[0;34m\u001b[0m\u001b[0m\n\u001b[0m\u001b[1;32m    806\u001b[0m         \u001b[0;32melse\u001b[0m\u001b[0;34m:\u001b[0m\u001b[0;34m\u001b[0m\u001b[0m\n\u001b[1;32m    807\u001b[0m             \u001b[0mfh\u001b[0m \u001b[0;34m=\u001b[0m \u001b[0miter\u001b[0m\u001b[0;34m(\u001b[0m\u001b[0mfname\u001b[0m\u001b[0;34m)\u001b[0m\u001b[0;34m\u001b[0m\u001b[0m\n",
      "\u001b[0;31mFileNotFoundError\u001b[0m: [Errno 2] No such file or directory: '../data/teddy_A'"
     ]
    }
   ],
   "source": [
    "import numpy as np\n",
    "\n",
    "# read TeddyA\n",
    "TeddyA = np.loadtxt('../data/teddy_A')"
   ]
  },
  {
   "cell_type": "markdown",
   "metadata": {},
   "source": [
    "------------------------------------------------------------------------------------------------------------------\n",
    "Summary:\n",
    "\n",
    "## Machine Learning Model    \n",
    "\n",
    "**Task**:  Estimate photometric redshift based on measurements of magnitudes and colours.  \n",
    "\n",
    "       input: r-band magnitude and 4 different colours in SDSS broad-band filters\n",
    "       output: estimated photometric redshifts=\n",
    "       \n",
    "**Task Category**:   Regression\n",
    "\n",
    "**Data**: `Teddy` catalog from [Beck *et al*., 2017](https://arxiv.org/abs/1701.08748)  \n",
    "        \n",
    "        5 Features, x \n",
    "            mag_r       magnitude in SDSS r-band\n",
    "              u-g       u - g colour in SDSS system\n",
    "              g-r       g - r colour in SDSS system\n",
    "              r-i       r - i colour in SDSS system\n",
    "              i-z       i - z colour in SDSS system\n",
    "              \n",
    "    \n",
    "        1 response variable (label), y    \n",
    "            redshift\n",
    "            \n",
    "**Machine Learning category**:  \n",
    "\n",
    "        Supervised Learning\n",
    "\n",
    "**Set of possible samples**:  \n",
    "\n",
    "        74309 galaxies\n",
    "        \n",
    "**Set of possible labels**:\n",
    "\n",
    "        positive real numbers (aditional constraints are observational)\n",
    "        \n",
    "**Learner**:\n",
    "    \n",
    "        1 - Linear Regression     \n",
    "        2 - Random Forest\n",
    "        \n",
    "**Loss function**:\n",
    "\n",
    "        Sum of squared residuals (Ordinary Least Square)\n",
    "         "
   ]
  },
  {
   "cell_type": "code",
   "execution_count": null,
   "metadata": {},
   "outputs": [],
   "source": []
  }
 ],
 "metadata": {
  "kernelspec": {
   "display_name": "Python 3",
   "language": "python",
   "name": "python3"
  },
  "language_info": {
   "codemirror_mode": {
    "name": "ipython",
    "version": 3
   },
   "file_extension": ".py",
   "mimetype": "text/x-python",
   "name": "python",
   "nbconvert_exporter": "python",
   "pygments_lexer": "ipython3",
   "version": "3.6.5"
  }
 },
 "nbformat": 4,
 "nbformat_minor": 2
}
